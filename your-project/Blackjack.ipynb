{
 "cells": [
  {
   "cell_type": "markdown",
   "metadata": {},
   "source": [
    "# Welcome to Blackjack!!\n",
    "\n",
    "## This is your chance to win (or lose) a great amount of money!\n",
    "\n",
    "Whenever you are ready to play, place your cursor in the cell below and press Shift + Enter:"
   ]
  },
  {
   "cell_type": "code",
   "execution_count": 1,
   "metadata": {},
   "outputs": [
    {
     "name": "stdout",
     "output_type": "stream",
     "text": [
      "Please enter the amount of money with which you want to play: 5\n",
      "You have 5.0 euros left. Please enter your bet for this round: 2.5\n",
      "You have 5.0 euros left. Please enter your bet for this round: 3\n",
      "Your cards: Q 9\n",
      "Dealers' cards: A\n",
      "Hit or Stand?Stand\n",
      "Your score is 19. Dealers' turn\n",
      "Dealers' cards: A 8\n",
      "It is a tie!\n",
      "You have 5.0 euros left. Please enter your bet for this round: 5\n",
      "Your cards: 6 5\n",
      "Dealers' cards: 4\n",
      "Hit or Stand?Hit\n",
      "Your cards: 6 5 J\n",
      "Your score is 21. Dealers' turn\n",
      "Dealers' cards: 4 9 2 8\n",
      "You win!\n",
      "You have 10.0 euros left. Please enter your bet for this round: 0\n"
     ]
    },
    {
     "data": {
      "text/plain": [
       "'Game ended. You end up with 10.0 euros.'"
      ]
     },
     "execution_count": 1,
     "metadata": {},
     "output_type": "execute_result"
    }
   ],
   "source": [
    "import sys\n",
    "# insert at 1, 0 is the script path (or '' in REPL)\n",
    "sys.path.insert(1, '/Users/jpradera/Documents/Analytics/Github/Project-Week-1-Build-Your-Own-Game/your-project/Code')\n",
    "\n",
    "import Blackjack\n",
    "\n",
    "Blackjack.play_blackjack()"
   ]
  },
  {
   "cell_type": "code",
   "execution_count": null,
   "metadata": {},
   "outputs": [],
   "source": []
  },
  {
   "cell_type": "code",
   "execution_count": null,
   "metadata": {},
   "outputs": [],
   "source": []
  },
  {
   "cell_type": "code",
   "execution_count": null,
   "metadata": {},
   "outputs": [],
   "source": []
  }
 ],
 "metadata": {
  "kernelspec": {
   "display_name": "Python 3",
   "language": "python",
   "name": "python3"
  },
  "language_info": {
   "codemirror_mode": {
    "name": "ipython",
    "version": 3
   },
   "file_extension": ".py",
   "mimetype": "text/x-python",
   "name": "python",
   "nbconvert_exporter": "python",
   "pygments_lexer": "ipython3",
   "version": "3.7.7"
  }
 },
 "nbformat": 4,
 "nbformat_minor": 4
}
